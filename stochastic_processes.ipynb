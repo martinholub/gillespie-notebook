{
 "cells": [
  {
   "cell_type": "markdown",
   "metadata": {},
   "source": [
    "# Stochastic Modeling in Biology:\n",
    "<br/>\n",
    "\n",
    "<!---\n",
    "\n",
    "---\n",
    "layout: post\n",
    "title: Stochastic Modeling in Biology\n",
    "date: 2018-04-15 10:42\n",
    "tags: ETH Projects\n",
    "categories: ETH\n",
    "description: |\n",
    "    Genetically engineered cells and organisms are being used to produce array of commonplace commercial products including drugs and materials. Biological engineering is being employed to enhance nutrition content of various foods and yield of crops. Recently, lab-grown meat represents an interesting alternative to traditional production and [synthetic biology] is being explored even by artists.\n",
    "---\n",
    "\n",
    "-->\n",
    "\n",
    "<!---\n",
    "<div class=\"img_row\">\n",
    "\t<img class=\"col three\" src=\"{{ site.baseurl }}/img/some_img.png\" alt=\"\" title=\"header_img\"/>\n",
    "</div>\n",
    "<div class=\"col three caption\">\n",
    "Source: some.source.com\n",
    "</div>\n",
    "-->\n",
    "\n",
    "## Introduction \n",
    "<br/>\n",
    "Genetically engineered cells and organisms are being used to produce array of commonplace commercial products including [drugs](http://www.madehow.com/Volume-7/Insulin.html) and [materials](https://www.bio.org/articles/current-uses-synthetic-biology). Biological engineering is being employed to enhance nutrition content of various foods and yield of crops. Recently, [lab-grown meat](https://en.wikipedia.org/wiki/Cultured_meat) represents an interesting alternative to traditional production and [synthetic biology](https://www.nature.com/news/2010/100120/full/463288a.html) is being [explored even by artists](https://www.ginkgobioworks.com/2018/04/11/creative-in-residence/).  These successes are, however, just a baby steps in face of the richness and complexity of \"products\" nature is so adept in engineering. Like what you ask? Like you, for example.\n",
    "\n",
    "Luckily the development is ongoing at rapid pace. We are getting finer understanding of molecular-scale processes by which the life is implemented and by extension, we are becoming more adept in exercising control over them. Biology is becoming easier to analyze and design using established engineering approaches. At different system levels, from molecular to cellular to populational, mathematical modeling and abstraction in design are becoming possible. (*If this abstraction thing is too abstract for you, think about this as if in your Arduino project (like [this one](http://www.instructables.com/id/The-EyeWriter-20/)) you had to build and debug the microcontroller first. Before you could do that, you would have to do the same for all the resistors, transistors and other elements of the board. Instead, and luckily, you just need to have the board shipped and plug it into your laptotp to boot it up. You don't have to think of all the possibly very intricate details that make it work and can focus on building some application on top of it. This is the power of abstraction when put to work.*).\n",
    "\n",
    "This is exciting, fun and hugely relevant because, take it from ~~Elon Musk~~ Steve Jobs,:\n",
    "\n",
    "> [...] the biggest innovations of the 21st century will be at the intersection of biology and technology.\n",
    "\n",
    "Of course this topic is about as broad as an average statement of a politician so I will not try to cover it all here (*If you are interested in some more scientific peek into the topic, a good place to start is [this video](https://www.youtube.com/watch?v=lNttxYdGHs4) where Chris Voigt first gives general of the field and later explains his idea of programming genetic circuits the way we program computers*), rather I want to focus on the mathematical modeling part. I find it really nice how this helps me to think about the biological process in more rigorous and engineering way and believe you may benefit from this as well.\n",
    "\n",
    "First I will give you lightweight introduction to some theory behind and then show some code I wrote for simulating simple transcription and translation processes. It is all on [github](https://github.com/martinholub) so feel free to grab it afterwards to have some fun with it.\n",
    "\n",
    "\n",
    "## Biochemical Reaction Systems\n",
    "<br/>\n",
    "\n",
    "<!--\n",
    "<div class=\"img_row\">\n",
    "    <a href=\"{{ site.baseurl }}/img/copy_numbers.png\" target=\"_blank\">\n",
    "\t<img class=\"col three\" src=\"{{ site.baseurl }}/img/copy_numbers.png\" alt=\"Copy Numbers\" title=\"Copy Numbers\"/></a>\n",
    "</div>\n",
    "<div class=\"col three caption\">\n",
    "Illustrative example of copy numbers at different levels of biochemical hierarchy. Low copy numbers, i.e. these at genome to proteome levels, are affected by stochasticity and cannot be faithfully modeled using Ordinary Differential Equation (ODE) models.\n",
    "</div>\n",
    "-->\n",
    "\n",
    "In what follows we are looking at distinct biochemical species present in a cell. Additionally, these species are present in low [copy numbers](https://medical-dictionary.thefreedictionary.com/copy+number) that are significantly influenced by stochastic (random) events. You can think about this as having a a big parking lot under your kitchen window (poor you) and not having a calendar. In the morning when you make your breakfast, you can very reliably say if it is a normal working day or a public holiday based on its occupancy. Conversely, you friend, who has just two parking places within sight of his kitchen window cannot make a good guess of whether it is a public holiday or not based on if the two spots are empty. This could just as well be because somebody's child got sick (which is as random event as it gets).\n",
    "\n",
    "\n",
    "In biology, there are multiple sources of such randomness, including external environmental perturbations and inherent stochasticity stemming from statistical thermodynamics of molecular reactions. To account for this, we leave the familiar realm of concentrations and enter the world of single-molecule counts. In mathematical terms this means, that instead of writing differential equations for average concentration levels, we keep track of individual reaction events that have some probability of occurring on some time interval. Conceptually, the modeling framework is depicted in the following figure:\n",
    "\n",
    "<!--\n",
    "<div class=\"img_row\">\n",
    "    <a href=\"{{ site.baseurl }}/img/modelling_framework.png\" target=\"_blank\">\n",
    "\t<img class=\"col three\" src=\"{{ site.baseurl }}/img/modelling_framework.png\" alt=\"Modeling Framework\" title=\"Modeling Framework\"/></a>\n",
    "</div>\n",
    "<div class=\"col three caption\">\n",
    "Conceptual modeling framework for biochemical reaction systems. <it>TX</it> and <it>TL</it> refer to transcription and translation respectively. (<a href=\"http://www.cds.caltech.edu/~murray/BFSwiki/index.php/Main_Page\" target=\"_blank\">Source</a>)\n",
    "</div>\n",
    "-->\n",
    "\n",
    "### The Chemical Master Equation\n",
    "<br/>\n",
    "\n",
    "We want to resolve dynamics of a system at very fine scale both in space and time. Further, the system does not have equilibrium configuration. It turns out that we are interested in probability $P(\\mathbf{q}, t)$ of a system to be in _microstate_ $\\mathbf{q}$ at time $t$. Microstate is somewhat elusive term, but in the case of _chemical reaction systems_ this is just a vector of number of molecules of each species in the system.\n",
    "\n",
    "Next, we assume that there are $M$ reactions $R_j$, $j = 1, ..., M$ in total and that $\\boldsymbol{\\nu}_j$ is a change in state (i.e. change in number of molecules, e.g. $\\pm 1$ for unimolecular reaction) associated with reaction $R_j$. If we look at sufficiently small time interval, we can write $a_j (\\mathbf{q})dt$ for the probability that a reaction $j$ \"fires\" in interval $dt$, given that current microstate of the system is $\\mathbf{q}$. The $a_j (\\mathbf{q})$ is called _propensity function_ and we have dropped the time dependence as we assume this is accounted for by the dependence on microstate (that itself changes in time).\n",
    "\n",
    "The above definitions allow us to calculate the change of the probability distribution function over an interval $dt$:\n",
    "$$\\begin{array}{lcl}\n",
    "P(\\mathbf{q}, t + dt ~|~ \\mathbf{q}_0, t_0) & = &\n",
    "P(\\mathbf{q}, t ~|~ \\mathbf{q}_0, t_0)\\prod_{j=1}^{M}{(1-a_j(\\mathbf{q})dt)} \\\\\n",
    "& + & \\prod_{j=1}^{M}{P(\\mathbf{q} - \\boldsymbol{\\nu}_j, t ~|~\\mathbf{q}_0, t_0)(a_j(\\mathbf{q} -\\boldsymbol{\\nu}_j)dt)} \\\\\n",
    "& = & P(\\mathbf{q}, t ~|~ \\mathbf{q}_0, t_0) \\\\\n",
    "& + & \\sum_{j=1}^{M}{\\bigg(P(\\mathbf{q} - \\boldsymbol{\\nu}_j, t ~|~\\mathbf{q}_0, t_0)a_j(\\mathbf{q} -\\boldsymbol{\\nu}_j) - P(\\mathbf{q}, t ~|~ \\mathbf{q}_0, t_0)a_j(\\mathbf{q})\\bigg)dt} \\\\\n",
    "& + & \\mathscr{O}(dt^{2})\\\\\n",
    "\\end{array}$$\n",
    "\n",
    "This may look scary but it really just states that the probability to get to state $\\mathbf{q}$ is equal to probability that we are already in that state + the probability that we are one reaction away from that state and the matching reaction fires in the interval $dt$.\n",
    "After dropping higher order terms in $dt$ and simplifying the notation we get:\n",
    "$$\\frac{\\partial P}{\\partial t} (\\mathbf{q}, t) = \\sum_{j=1}^{M}{\\bigg(P(\\mathbf{q} - \\boldsymbol{\\nu}_j, t)a_j(\\mathbf{q} -\\boldsymbol{\\nu}_j) - P(\\mathbf{q}, t)a_j(\\mathbf{q})\\bigg)}.$$\n",
    "\n",
    "This is the _chemical master equation (CME)_, which is an example of _forward Kolmogorov equation_ for a discrete state, continuous time random process (phew, quite some terminology here). The discrete state here is described by the vector $\\mathbf{q}$ with numbers of molecules of species in the system. To be able to calculate anything with it we will need to specify the initial condition $P(\\mathbf{q}_0, t_0)$. To help you put this into bigger picture, see the two following figures that show where the CME is positioned with respect to other (more approximate) approaches to model biological system dynamics. \n",
    "\n",
    "<!--\n",
    "<div class=\"img_row\">\n",
    "    <a href=\"{{ site.baseurl }}/img/overview.png\" target=\"_blank\">\n",
    "\t<img class=\"col three\" src=\"{{ site.baseurl }}/img/modeling_approaches1.png\" alt=\"Modeling Approaches 1\" title=\"Modeling Approaches 1\"/></a>\n",
    "</div>\n",
    "<div class=\"col three caption\">\n",
    "Different methods for modeling biochemical reaction systems. (<a href=\"http://www.cds.caltech.edu/~murray/BFSwiki/index.php/Main_Page\" target=\"_blank\">Source</a>)\n",
    "</div>\n",
    "-->\n",
    "\n",
    "<!--\n",
    "<div class=\"img_row\">\n",
    "    <a href=\"{{ site.baseurl }}/img/modeling_approaches2.png\" target=\"_blank\">\n",
    "\t<img class=\"col three\" src=\"{{ site.baseurl }}/img/modeling_approaches2.png\" alt=\"Modeling Approaches 2\" title=\"Modeling Approaches 2\"/></a>\n",
    "</div>\n",
    "<div class=\"col three caption\">\n",
    "Hierarchy of methods for modeling biochemical reactions. CME - Chemical Master Equation, SSA - Stochastic Simulation Algorithm, CLE - Chemical Langevin Equation, CFPE - Chemical Fokker-Planck Equation, RRE - Reaction Rate Equation. (<a href=\"https://www.annualreviews.org/doi/abs/10.1146/annurev.physchem.58.032806.104637\" target=\"_blank\">Source</a>)\n",
    "</div>\n",
    "-->\n",
    "\n",
    "\n",
    "The main reason for why there is such a wide palette of approaches is because the chemical master equation does not have analytical solution and its numerical solution quickly becomes computationally expensive for systems with more than few distinct species. Its advantage is that building a model from set of reactions is very transparent and straightforward and this is why we will focus on precisely this approach, keeping in mind its limitations."
   ]
  },
  {
   "cell_type": "markdown",
   "metadata": {},
   "source": [
    "## The Stochastic Simulation Algorithm\n",
    "<br/>\n",
    "We have already mentioned that _CME_ doesn't have analytical soltion. The straightforward approach how to obtain some representative description of the system is to draw samples from the probability distribution $P(\\mathbf{q}, t ~|~ \\mathbf{q}_0, t_0)$ governed by the _CME_. This is  [_Monte Carlo simulation_](https://www.quora.com/What-is-an-intuitive-explanation-of-Monte-Carlo-simulations). We will be able to determine [moments of the distribution](https://en.wikipedia.org/wiki/Moment_(mathematics)) (e.g. mean and variance) by averaging over many realizations of single trajectories (under identical initial conditions).\n",
    "<!-- Can actually implement stochastic collocation here!! -->\n",
    "\n",
    "#### State update\n",
    "<br/>\n",
    "To implement this, we will follow approach as developed by [Daniel Gillespie](https://en.wikipedia.org/wiki/Daniel_Gillespie), i.e. the _stochastic simulation algorithm (SSA)_. Given an arbitrary state $\\mathbf{q} = (n_1, n_2, ...)$, for computation of the next state we need an index of next reaction that occurs (\"fires\") and $\\Delta t$ in which this happens. The probability that the next reaction to fire is the reaction $j$ is directly proportional to the corresponding propensity $a_j$ (intuitively, reactions with high reaction rates will occur more often). Therefore finding an index $j$ of such reaction is just matter of drawing a random integer from a weighted distribution on $[1, M]$ where the weights are given as:\n",
    "$$\\frac{a_j}{\\sum_{i}^{M} a_i} \\qquad j = 1, ..., M.$$\n",
    "\n",
    "Note that this is equivalent to drawing a uniform random number on $[0,1]$, scaling it by the total propensity $a = \\sum_{i}^{M}a_i$ and finding the first integer $j$ for which this scaled random number is less then $\\sum_{i}^{j}a_i$.\n",
    "\n",
    "#### Time update\n",
    "<br/>\n",
    "Finding a $\\Delta t$ in which this reaction occurs is more involved. You can find the derivation at the [end of this post](#Supplementary-Note-1:-Derivation-next-time-step-parameters-in-Gillespie's-Algorithm), but for now we will take for granted that the _cumulative distribution function (CDF)_ for $\\Delta t$ is:\n",
    "$$\\int_{0}^{\\Delta t} \\mathrm{f}_T(\\tau) d\\tau = \\int_{0}^{\\Delta t} a \\mathrm{e}^{-a\\tau}d \\tau = 1 - \\mathrm{e}^{-a\\Delta t}.$$\n",
    "\n",
    "This is nice because we draw samples from this distribution by drawing a random number $\\xi$ on $[0, 1]$ and [inverse-sampling](https://en.wikipedia.org/wiki/Inverse_transform_sampling) from the CDF. In this case, the CDF can be even inverted analytically to obtain:\n",
    "$$\\Delta t = \\frac{1}{a} \\mathrm{ln}\\bigg(\\frac{1}{1 - \\xi}\\bigg).$$\n",
    "\n",
    "##### Python code\n",
    "<br/>\n",
    "If the previous two sections sounded complicated to you, have no worry, it is actually super-simple to implement them in code:\n",
    "\n",
    "```python\n",
    "def draw_ssa(propensities, total_prop):\n",
    "    \"\"\"Draw random samples according to prescriptions of SSA\n",
    "    \n",
    "    Parameters\n",
    "    -------\n",
    "    propensities: array, propensities of all reactions\n",
    "    total_prop: float, total propensity\n",
    "    \n",
    "    Returns\n",
    "    ---------\n",
    "    idx: int, index into the state change matrix to determine updated\n",
    "              state\n",
    "    tau: float, time step size\n",
    "    \"\"\"\n",
    "    \n",
    "    xi1 = np.random.uniform(0,1)\n",
    "    prop_rank = np.sort(np.cumsum(propensities)/total_prop)\n",
    "    idx = np.int32(np.argmax(prop_rank > xi1))\n",
    "    \n",
    "    xi2 =  np.random.uniform(0,1)\n",
    "    tau = np.float32(1/total_prop * np.log(1/(1-xi2)))\n",
    "    return idx, tau\n",
    "```"
   ]
  },
  {
   "cell_type": "markdown",
   "metadata": {},
   "source": [
    "#### The Algorithm\n",
    "<br/>\n",
    "\n",
    "Now we are armed for the stochastic simulation algorithm that proceeds as follows:\n",
    "\n",
    "\\begin{alignat}{0}\n",
    "\\textbf{initialize} \\\\\n",
    "\\qquad \\textrm{choose}\\ \\mathbf{q}_0,\\ \\textrm{e.g.}\\ (n_{mRNA,0}, n_{protein, 0})\\\\\n",
    "\\textbf{while}\\ t\\ < \\ t_{stop}:\\\\\n",
    "\\qquad \\textrm{calculate}\\ a_i(\\mathbf{q}),\\ \\forall\\ i = 1, ..., M \\\\\n",
    "\\qquad \\textrm{draw}\\ \\xi_1 \\in [0, 1]\\ \\textrm{and compute}\\ \\Delta t \\\\\n",
    "\\qquad \\textrm{draw}\\ \\xi_2 \\in [0, 1]\\ \\textrm{and find index}\\ j \\\\\n",
    "\\qquad \\textrm{update}\\ \\mathbf{q}\\\\\n",
    "\\end{alignat}\n",
    "\n",
    "This algorithm is also called [Gillespie's direct method](https://www.sciencedirect.com/science/article/pii/0021999176900413?via%3Dihub) as it was D.T. Gillespie who proved that this method samples from the probability distribution governed by the CME. The method is derived based on [first principles](http://cmt.dur.ac.uk/sjc/thesis_mcg/node6.html). This makes it an exact approach to stochastic simulation, consequently, time step $\\tau$ is not mere finite approximation (as in ODE models).\n",
    "\n",
    "##### Python code\n",
    "<br/>\n",
    "Implementation in code is again quite simple:\n",
    "\n",
    "```python\n",
    "def ssa_routine(k, t_end, q0, nu, psi):\n",
    "    \"\"\" Stochastic Simulation Algorithm\n",
    "\n",
    "    Performs sampling from distribution governed by chemical master equation.\n",
    "\n",
    "    Parameters\n",
    "    --------------\n",
    "    k: array, vector stochastic reaction constants\n",
    "    t_end: int, number of steps for the simulation\n",
    "    q0: array, initial number of molecules for each species\n",
    "    nu: ndarray, stoichiometric matrix, with state change vectors in columns\n",
    "    psi: ndarray, reactant molecularity matrix\n",
    "    \n",
    "    Returns\n",
    "    --------------\n",
    "    Q: array, all states q at times t\n",
    "    time: array, vector of times t\n",
    "    tot_props: array, total propensities at times t\n",
    "    is_success: bool, flag indicating if simulation ran to completion\n",
    "    \"\"\"\n",
    "    \n",
    "    #Initialize arrays to store states, tick times\n",
    "    time = []\n",
    "    t = 0\n",
    "    time.append(t)\n",
    "    \n",
    "    Q = []\n",
    "    state = q0\n",
    "    Q.append(state)\n",
    "    \n",
    "    while t < t_end:\n",
    "        # Calculate propensities for current state\n",
    "        propensities, total_prop = get_propensities(k, state, psi)\n",
    "        \n",
    "        # Draw random samples for update of state and time step\n",
    "        idx, tau = draw_ssa(propensities, total_prop)\n",
    "            \n",
    "        ## Find random change in state - see theory\n",
    "        state = state + nu[idx, :]\n",
    "            \n",
    "        ## Find random time step size - see theory\n",
    "        t = t + tau\n",
    "\n",
    "    return Q, time\n",
    "```\n",
    "\n",
    "\n",
    "```python\n",
    "def get_propensities(rates, populations, psi):\n",
    "    \"\"\"Return propensities given rates and populations\n",
    "    \n",
    "    Computes the value of propensity for all reactions. Generalizes to various systems\n",
    "    \n",
    "    Parameters\n",
    "    ----------\n",
    "    rates: array, vector of stochastic reaction constants\n",
    "    populations: array, vector of number of molecules of each species \n",
    "    \n",
    "    Returns\n",
    "    ---------------\n",
    "    propensities: array, vector of propensiites for all reactions\n",
    "    total_propensity: float, sum of all propensiites\n",
    "    \"\"\"\n",
    "    \n",
    "    # See model description  \n",
    "    propensities = np.empty(psi.shape[0], dtype = np.float32)\n",
    "    for r in range(psi.shape[0]):\n",
    "        temp = populations ** psi[r,:]\n",
    "        propensities[r] = temp.prod() * rates[r] \n",
    "        \n",
    "    total_propensity = np.float32(propensities.sum())\n",
    "    \n",
    "    return propensities, total_propensity\n",
    "```\n",
    "\n",
    "The apparent drawback of this method is its computational complexity. As the systems become of somewhat more practical size (larger number of different species), the time step becomes very small. As on each time step, two random numbers have to be generated, this leads to significant computational cost. To circumvent this issue, approximations of the SSA (see Figures 1 and 2) become useful."
   ]
  },
  {
   "cell_type": "markdown",
   "metadata": {},
   "source": [
    "## Easy example: The Central Dogma\n",
    "<br/>\n",
    "To make this discussion more concrete, let's look at the minimal example of [_central dogma of molecular biology_](https://www.dnalc.org/resources/3d/central-dogma.html). This can be concisely represented as:\n",
    "\n",
    "$$\n",
    "\\require{AMScd}\n",
    "\\begin{CD}\n",
    "    DNA @>\\beta_m>> mRNA @>{\\beta_p \\cdot n_m(t)}>> protein\\\\\n",
    "    @. @VV{\\gamma_m \\cdot n_m(t)}V @VV{\\gamma_p \\cdot n_p(t)}V\\\\\n",
    "    @. \\varnothing @. \\varnothing\n",
    "\\end{CD}\n",
    "$$\n",
    "\n",
    "Here the microstate is simply the vector $\\mathbf{q} = (1, n_m, n_p)$, where $n_m$ and $n_p$ are the copy numbers of transcripts and proteins respectively that depend on time. The DNA is present in single copy throughout (as such, we do not need to include it in our calculations, but will do so for consistency). The propensities (or _transition probabilities_ if you will) are:\n",
    "\n",
    "$$\n",
    "a_1 = \\beta_m \\qquad a_2 = \\gamma_m \\cdot n_m \\qquad a_3 = \\beta_p \\cdot n_m \\qquad a_4 = \\gamma_p \\cdot n_p,$$\n",
    "\n",
    "where $\\beta_i$ corresponds to _production_ and $\\gamma_i$ to _degradation_. We can see that propensity, in case of unimolecular reaction ($A \\rightarrow B$) directly corresponds to the reaction rate constant (Things get only bit more complicated for bimolecular reactions as you will see later). \n",
    "\n",
    "Each state change vector corresponds to one reaction in the system and and together they are concatenated as columns of _stoichiometric matrix_ $\\mathbf{N}$:\n",
    "\n",
    "$$\n",
    "\\mathbf{N}= (\\boldsymbol{\\nu}_1^T, \\boldsymbol{\\nu}_2^T, \\boldsymbol{\\nu}_3^T, \\boldsymbol{\\nu}_4^T) = \n",
    "\\begin{bmatrix}\n",
    "0 & 0 & ~0 & ~0 \\\\\n",
    "1 & 0 & -1 & ~0 \\\\\n",
    "0 & 1 & ~0 & -1\n",
    "\\end{bmatrix}\n",
    "$$\n",
    "\n",
    "\n",
    "The dynamics of the system are described by _Chemical master equation (CME)_ for probability $P\\big((n_m, n_p), t\\big)$:\n",
    "\n",
    "$$\\begin{array}{lcl}\n",
    "\\frac{\\partial P}{\\partial t}\\big((n_m, n_p), t\\big) & = & P\\big((n_m-1, n_p\\big), t)\\beta_m - P\\big((n_m, n_p), t\\big)\\beta_m \\\\\n",
    "& + & P\\big((n_m+1, n_p), t\\big)\\gamma_m (n_m+1) - P\\big((n_m, n_p), t\\big)\\gamma_m n_m \\\\\n",
    "& + & P\\big((n_m, n_p-1), t\\big)\\beta_p (n_m) - P\\big((n_m, n_p), t\\big)\\beta_p n_m \\\\\n",
    "& + & P\\big((n_m, n_p+1), t\\big)\\gamma_p (n_p+1) - P\\big((n_m, n_p), t\\big)\\gamma_p n_p \\\\\n",
    "\\end{array}$$\n",
    "\n",
    "Phew! This has been quite some theory we have covered, let's now take a look how we can translate all this into code to simulate a real biological system.\n",
    "\n",
    "### Simulation\n",
    "<br/>"
   ]
  },
  {
   "cell_type": "code",
   "execution_count": 1,
   "metadata": {
    "collapsed": true
   },
   "outputs": [],
   "source": [
    "%load_ext autoreload\n",
    "%autoreload 2\n",
    "import ssa_routine as ssa\n",
    "import numpy as np\n",
    "import matplotlib.pyplot as plt\n",
    "\n",
    "plt.style.use('ggplot') # use \"ggplot\" style for graphs\n",
    "pltparams = {'legend.fontsize':14,'axes.labelsize':18,'axes.titlesize':18,\n",
    "             'xtick.labelsize':12,'ytick.labelsize':12,'figure.figsize':(7.5,7.5),}\n",
    "plt.rcParams.update(pltparams)"
   ]
  },
  {
   "cell_type": "markdown",
   "metadata": {},
   "source": [
    "#### Model Parameters\n",
    "<br/>\n",
    "We set the initial conditions as following:\n",
    "\n",
    "$DNA$ | $mRNAs$ | $Proteins$\n",
    ":---:|:---:|:---:\n",
    "1 | 0 | 0\n",
    "\n",
    "For the reaction rates we select:\n",
    "\n",
    "$\\beta_m$ |  $\\beta_p$ | $\\gamma_m$| $\\gamma_p$\n",
    ":---:|:---:|:---: | :---:\n",
    "10 | 10 | 1 | 0.4\n",
    "\n",
    "This means, for example, that the \"birth\" of a molecule of mRNA is 10-times more likely than its \"death\".\n",
    "\n",
    "Additionally we define matrix of reactant (species entering each reaction) molecularity $\\mathbf{\\psi}$:\n",
    "\n",
    "$$\n",
    "\\mathbf{\\psi}=\n",
    "\\begin{bmatrix}\n",
    "1 & 0 & 0 & 0 \\\\\n",
    "0 & 1 & 1 & 0 \\\\\n",
    "0 & 0 & 0 & 1\n",
    "\\end{bmatrix}.\n",
    "$$\n",
    "\n",
    "We will also simulate multiple independent evolutions (paths) such that we can obtain mean evolution."
   ]
  },
  {
   "cell_type": "code",
   "execution_count": 2,
   "metadata": {
    "collapsed": true
   },
   "outputs": [],
   "source": [
    "mp = ssa.modelParameters(k = np.array([10, 10, 1, .4]),\n",
    "                         nu = np.array(([0, 1, 0], [0, 0, 1], [0,-1, 0], [0, 0,-1])),\n",
    "                         psi = np.array(([1, 0, 0], [0, 1, 0], [0, 1, 0], [0, 0, 1])),\n",
    "                         q0 = np.array([1,0, 0]),\n",
    "                         t_end = 100,\n",
    "                         names = [\"gene\", \"mRNA\", \"protein\"],\n",
    "                         dist = [\"none\", \"poiss\", \"gauss\"] )\n",
    "n_paths = 30"
   ]
  },
  {
   "cell_type": "code",
   "execution_count": 3,
   "metadata": {},
   "outputs": [
    {
     "name": "stdout",
     "output_type": "stream",
     "text": [
      "2018-04-15 09:33:39,299:ssa_routine:INFO: Starting simulation with n_paths=30\n",
      "2018-04-15 09:33:39,315:ssa_routine:INFO: Start of simulation for path # 1 out of 30.\n",
      "2018-04-15 09:33:45,030:ssa_routine:INFO: Start of simulation for path # 2 out of 30.\n",
      "2018-04-15 09:33:46,053:ssa_routine:INFO: Start of simulation for path # 3 out of 30.\n",
      "2018-04-15 09:33:47,061:ssa_routine:INFO: Start of simulation for path # 4 out of 30.\n",
      "2018-04-15 09:33:48,301:ssa_routine:INFO: Start of simulation for path # 5 out of 30.\n",
      "2018-04-15 09:33:49,408:ssa_routine:INFO: Start of simulation for path # 6 out of 30.\n",
      "2018-04-15 09:33:50,345:ssa_routine:INFO: Start of simulation for path # 7 out of 30.\n",
      "2018-04-15 09:33:51,370:ssa_routine:INFO: Start of simulation for path # 8 out of 30.\n",
      "2018-04-15 09:33:52,326:ssa_routine:INFO: Start of simulation for path # 9 out of 30.\n",
      "2018-04-15 09:33:53,283:ssa_routine:INFO: Start of simulation for path # 10 out of 30.\n",
      "2018-04-15 09:33:54,360:ssa_routine:INFO: Start of simulation for path # 11 out of 30.\n",
      "2018-04-15 09:33:55,372:ssa_routine:INFO: Start of simulation for path # 12 out of 30.\n",
      "2018-04-15 09:33:56,295:ssa_routine:INFO: Start of simulation for path # 13 out of 30.\n",
      "2018-04-15 09:33:57,267:ssa_routine:INFO: Start of simulation for path # 14 out of 30.\n",
      "2018-04-15 09:33:58,280:ssa_routine:INFO: Start of simulation for path # 15 out of 30.\n",
      "2018-04-15 09:33:59,322:ssa_routine:INFO: Start of simulation for path # 16 out of 30.\n",
      "2018-04-15 09:34:00,340:ssa_routine:INFO: Start of simulation for path # 17 out of 30.\n",
      "2018-04-15 09:34:01,297:ssa_routine:INFO: Start of simulation for path # 18 out of 30.\n",
      "2018-04-15 09:34:02,268:ssa_routine:INFO: Start of simulation for path # 19 out of 30.\n",
      "2018-04-15 09:34:03,347:ssa_routine:INFO: Start of simulation for path # 20 out of 30.\n",
      "2018-04-15 09:34:04,324:ssa_routine:INFO: Start of simulation for path # 21 out of 30.\n",
      "2018-04-15 09:34:05,343:ssa_routine:INFO: Start of simulation for path # 22 out of 30.\n",
      "2018-04-15 09:34:06,345:ssa_routine:INFO: Start of simulation for path # 23 out of 30.\n",
      "2018-04-15 09:34:07,438:ssa_routine:INFO: Start of simulation for path # 24 out of 30.\n",
      "2018-04-15 09:34:08,475:ssa_routine:INFO: Start of simulation for path # 25 out of 30.\n",
      "2018-04-15 09:34:09,515:ssa_routine:INFO: Start of simulation for path # 26 out of 30.\n",
      "2018-04-15 09:34:10,526:ssa_routine:INFO: Start of simulation for path # 27 out of 30.\n",
      "2018-04-15 09:34:11,484:ssa_routine:INFO: Start of simulation for path # 28 out of 30.\n",
      "2018-04-15 09:34:12,480:ssa_routine:INFO: Start of simulation for path # 29 out of 30.\n",
      "2018-04-15 09:34:13,421:ssa_routine:INFO: Start of simulation for path # 30 out of 30.\n",
      "2018-04-15 09:34:14,563:ssa_routine:INFO: Calculating statistics for all species.\n"
     ]
    },
    {
     "data": {
      "text/html": [
       "<div>\n",
       "<style>\n",
       "    .dataframe thead tr:only-child th {\n",
       "        text-align: right;\n",
       "    }\n",
       "\n",
       "    .dataframe thead th {\n",
       "        text-align: left;\n",
       "    }\n",
       "\n",
       "    .dataframe tbody tr th {\n",
       "        vertical-align: top;\n",
       "    }\n",
       "</style>\n",
       "<table border=\"1\" class=\"dataframe\">\n",
       "  <thead>\n",
       "    <tr style=\"text-align: right;\">\n",
       "      <th></th>\n",
       "      <th>mean</th>\n",
       "      <th>var</th>\n",
       "      <th>CV</th>\n",
       "    </tr>\n",
       "  </thead>\n",
       "  <tbody>\n",
       "    <tr>\n",
       "      <th>gene</th>\n",
       "      <td>1.000000</td>\n",
       "      <td>0.000000</td>\n",
       "      <td>0.000000</td>\n",
       "    </tr>\n",
       "    <tr>\n",
       "      <th>mRNA</th>\n",
       "      <td>10.431053</td>\n",
       "      <td>10.262420</td>\n",
       "      <td>0.307112</td>\n",
       "    </tr>\n",
       "    <tr>\n",
       "      <th>protein</th>\n",
       "      <td>252.870719</td>\n",
       "      <td>2027.642923</td>\n",
       "      <td>0.178073</td>\n",
       "    </tr>\n",
       "  </tbody>\n",
       "</table>\n",
       "</div>"
      ],
      "text/plain": [
       "               mean          var        CV\n",
       "gene       1.000000     0.000000  0.000000\n",
       "mRNA      10.431053    10.262420  0.307112\n",
       "protein  252.870719  2027.642923  0.178073"
      ]
     },
     "metadata": {},
     "output_type": "display_data"
    },
    {
     "name": "stdout",
     "output_type": "stream",
     "text": [
      "2018-04-15 09:34:15,376:ssa_routine:INFO: Simulation finished.\n",
      "2018-04-15 09:34:21,556:ssa_routine:INFO: Program execution finished.\n"
     ]
    }
   ],
   "source": [
    "np.random.seed(123)\n",
    "ssa.main(mp, n_paths, do_load = 0, do_save = 0)"
   ]
  },
  {
   "cell_type": "markdown",
   "metadata": {},
   "source": [
    "### Results\n",
    "<br/>\n",
    "We obtain statistics for distribution of number of species. The mRNAs reach steady-state value of around 10 copies whereas the proteins level off at around 260 copies. The $CV$ is a [coefficient of variation](https://en.wikipedia.org/wiki/Coefficient_of_variation), normalized measure of dispersion of a distribution defined as a ratio of standard deviation to mean $CV = \\frac{\\sigma}{\\mu}.$ \n",
    "\n",
    "We can look at the development of species numbers in time in the following plot in the left panel. On the right hand is then all-time histogram estimate of distribution of copy numbers together with empirical cumulative distribution function and KDE - [kernel density estimate](https://www.quora.com/What-is-kernel-density-estimation). We observe that the distribution of number of mRNAs well follows the theoretical [Poisson distribution](https://en.wikipedia.org/wiki/Poisson_distribution) with rate parameter $\\lambda = \\beta_m$.\n",
    "\n",
    "<!--\n",
    "<div class=\"img_row\">\n",
    "    <a href=\"{{ site.baseurl }}/img/easy_example_evolution.pdf\" target=\"_blank\">\n",
    "\t<img class=\"col three\" src=\"{{ site.baseurl }}/img/easy_example_evolution.pdf\" alt=\"Easy Example\" title=\"Easy Example\"/></a>\n",
    "</div>\n",
    "<div class=\"col three caption\">\n",
    "Temporal evolution of species' copy numbers. Red line indicates mean evolution for 30 independent realizations. Right panel displays marginal distribution for all times both as empirical estimate (histogram and KDE - Kernel Density Estimate) and theoretical predictions (Poisson for mRNAs and Gaussian for proteins). Green line represents empirical cumulative distribution function.\n",
    "</div>\n",
    "-->\n"
   ]
  },
  {
   "cell_type": "markdown",
   "metadata": {},
   "source": [
    "### Note on speed\n",
    "<br/>\n",
    "Even in this simple version, the algorithm takes quite some time to finish. I looked into it and improved the performance using [numba](https://numba.pydata.org/). You can find details on this in the [supplementary note](#Supplementary-Note-2:-Optimizing-the-sampling-in-SSA)."
   ]
  },
  {
   "cell_type": "markdown",
   "metadata": {},
   "source": [
    "## Advanced Example: Noise Induced Switch\n",
    "<br/>\n",
    "OK, once we have the simulation and visualization functions ready and once we can draw samples reasonably fast, we can start working on a more complex model. We will look at set of reactions that will allow us to simulate effects of noise on gene expression levels. In particular we are interested in rapid switching between two significantly different levels of expression. This interesting phenomenon, referred as bistability, is often present in real biological circuits but cannot be captured by a deterministic ODE model. Whereas in previous easy example we may have as well used a deterministic ODE to obtain good estimate of time evolution, in this case we need a stochastic model to get representative picture of system dynamics."
   ]
  },
  {
   "cell_type": "markdown",
   "metadata": {},
   "source": [
    "###  The model\n",
    "<br/>\n",
    "$$G_1 \\xrightarrow{\\beta_1} G_1 + P_1 \\qquad \\qquad P_1 \\xrightarrow{\\gamma_1} \\varnothing \\tag{1a, 1b}$$\n",
    "\n",
    "$$G_2 \\xrightarrow{\\beta_2} G_2 + 2\\,P_2 \\qquad \\qquad P_2 \\xrightarrow{\\gamma_1} \\varnothing \\tag{2a, 2b}$$\n",
    "\n",
    "$$\\require{mhchem}\n",
    "\\ce{G1 + P2 <=>[{\\kappa_{c1}^{+}}][{\\kappa_{c1}^{-}}] \\xi_{1}^{I}} \\tag{3}\n",
    "$$\n",
    "\n",
    "$$\\ce{G2 + P1 <=>[{\\kappa_{c2}^{+}}][{\\kappa_{c2}^{-}}] \\xi_{2}^{I_1}} \\tag{4}$$\n",
    "\n",
    "$$\\ce{\\xi_{2}^{I_1} + P1 <=>[{\\kappa_{c3}^{+}}][{\\kappa_{c3}^{-}}] \\xi_{2}^{I_2}} \\tag{5}$$"
   ]
  },
  {
   "cell_type": "markdown",
   "metadata": {},
   "source": [
    "\n",
    "* Reactions $(1a)$ and $(2a)$ represent expression of proteins $P_1$ and $P_2$ originating from genes $G_1$ and $G_2$ ($G_2$ codes for [bicistronic](https://en.wikipedia.org/wiki/Messenger_RNA#Monocistronic_versus_polycistronic_mRNA) mRNA). They reflect the fact that the genes are left unchanged and available for transcription.\n",
    "\n",
    "* $(2a)$ and $(2b)$ correspond to protein degradation, where reaction rate is proportional to current number of molecules of given protein $n_i, ~ i=\\{P_1, P_2\\}$.\n",
    "\n",
    "* In equation $(3)$, the expression of protein $P_1$ is inhibited by $P_2$ which binds to promoter region of $G_1$ and acts as *inhibitor*, forming complex $\\xi_1^I$.\n",
    "\n",
    "* The expression of from gene $G_2$ is repressed by protein $P_1$ which together form an intermediate transcription-inhibiting complex $\\xi_2^{I_1}$ (reaction $(4)$)\n",
    "\n",
    "* Protein $P_1$ is inactivated by binding to complex $\\xi_2^{I_1}$ and forming $\\xi_2^{I_2}$ (reaction $(5)$). Note that reactions $(4)$ and $(5)$ work antagonistically.\n",
    "\n",
    "We will model [cooperativity](https://en.wikipedia.org/wiki/Cooperativity) of the enzyme binding sites with:\n",
    "\n",
    "$$\\kappa_{c3}^{+} = \\sigma \\kappa_{c2}^{+} \\qquad \\sigma >> 1.$$\n",
    "\n",
    "This essentially says that the inhibitory binding to $P_1$ becomes easier after the first complexation reaction. This, at the first sight not very interesting feature of the system, is actually essential in our simulation. Repression with cooperativity is namely [one of ways how to achieve switch-like behavior](https://www.sciencedirect.com/science/article/pii/S0022519300910683) in biological systems. \n",
    "\n",
    "<!---\n",
    "This is a very nice property of the system that can be analytically proved from deterministic ODE model. This however requires careful mathematical analysis, so we will not do it here (if you are interested checkout [this website](https://mathbio.colorado.edu/index.php/MBW:How_to_make_a_Biological_Switch)).\n",
    "--->\n",
    "\n",
    "The system in question has 7 distinct biochemical species: $[G_1, P_1, G_2, P_2, \\xi_{1}^{I}, \\xi_{2}^{I_1}, \\xi_{2}^{I_2}]$ and comprises of in total 10 reactions (as we consider each reversible reaction as two)."
   ]
  },
  {
   "cell_type": "markdown",
   "metadata": {},
   "source": [
    "##### Stochastic reaction constants\n",
    "<br/>\n",
    "As previously we will define an array of stochastic reaction rates $k$. We will have to be careful about units here. First, we note that for *unimolecular* reactions, the reaction rates are identical to the deterministic ones with unit ${min}^{-1}$. This is good because we are already familiar with them from previous example.\n",
    "\n",
    "For *bimolecular* (two species) reactions, the stochastic reaction rate relates to the reaction rate of deterministic model by scaling with inverse volume $\\Omega$.\n",
    "\n",
    "$$\\hat{k}_i = \\frac{k_i}{\\Omega}.$$ \n",
    "\n",
    "To obtain same units as in the case of *unimolecular* reaction, we include also scaling by Avogardo's number $N_A [mol^{-1}]$, such that $\\Omega = V\\,\n",
    "N_A$ and $k_i = [M \\cdot min^{-1}]$. $N_A$ is the old familiar $6.022\\cdot10^{23} mol^{-1}.$ For the volume, we make a [ballpark estimate](http://book.bionumbers.org/how-big-is-an-e-coli-cell-and-what-is-its-mass/) for *E.coli* as a cylinder with diameter $1\\mu m$ and length $2\\mu m$ yielding $V \\approx 1.5 \\mu m^3 = 1.5\\cdot 10^{-15} m^3$.\n",
    "\n",
    "For our model, we will select the following values of stochastic reaction constants:\n",
    "\n",
    "$\\beta_1$ | $\\beta_2$ | $\\gamma_1$ | $\\gamma_2$ |$\\kappa_{c1}^{+}$ | $\\kappa_{c1}^{-}$ | $\\kappa_{c2}^{+} $ | $\\kappa_{c2}^{-}$ |  $\\kappa_{c3}^{+} $ | $\\kappa_{c3}^{-}$ \n",
    ":---:|:---:|:---:|:---:|:---:|:---:|:---:|:---:|:---:|:---:\n",
    "$100$ | $1000$ | $10$ | $4$ | $\\frac{2}{\\Omega}$ | $1$ | $\\frac{4}{\\Omega}$ |  $1$ | $\\frac{4\\sigma}{\\Omega}$| $1$ \n",
    "\n",
    "The choice here is less arbitrary then it may look, because only certain parameters of the system will lead to noise-induced switch-like behavior. Here we require $\\kappa_{c1}^{-} = \\kappa_{c2}^{-} = \\kappa_{c3}^{-}$, $2 \\kappa_{c1}^{+} = \\kappa_{c2}^{+}$ and $\\sigma = 100$.\n",
    "\n",
    "This leads to following set of propensities:\n",
    "\n",
    "$a_1$ | $a_2$ | $a_3$ | $a_4$ |$a_5$ | $a_6$ | $a_7$ | $a_8$ |  $a_9$ | $a_{10}$ \n",
    ":---:|:---:|:---:|:---:|:---:|:---:|:---:|:---:|:---:|:---:\n",
    "$\\beta_1~n_{G1}$ | $\\beta_2~n_{G2}$ | $\\gamma_1~n_{P_1}$ | $\\gamma_2~n_{P_2}$ | $\\kappa_{c1}^{+}n_{P2}n_{G1}$ | $\\kappa_{c1}^{-}~\\xi_{1}^{I}$ | $\\kappa_{c2}^{+}n_{P1}n_{G2}$ | $\\kappa_{c2}^{-}~\\xi_{2}^{I_1}$ |  $\\kappa_{c3}^{+}n_{P1}\\xi_{2}^{I_1} $ | $\\kappa_{c3}^{-}~\\xi_{2}^{I_2}$ \n",
    "\n",
    "As previously we assume, that DNA [does not degrade](https://www.quora.com/Why-is-DNA-stable-but-RNA-is-not), although the transcription from it can be inhibited by binding with respective protein (reactions $3$ and $4$).\n",
    "\n",
    "Further we set the initial conditions as following:\n",
    "\n",
    "$G_1$ | $P_1$ | $G_2$ | $P_2$ | $\\xi_{1}^{I}$ | $\\xi_{2}^{I_1}$ | $\\xi_{2}^{I_2}$\n",
    ":---:|:---:|:---:|:---:|:---:|:---:|:---:\n",
    "1 | 10 | 1 | 10 | 0 | 0 | 0\n",
    "\n",
    "### Simulation\n",
    "<br/>\n",
    "As the code in previous example was written with to be generalizable, we will be able to almost entirely reuse it, we just need to update the model parameters as follows:"
   ]
  },
  {
   "cell_type": "code",
   "execution_count": 2,
   "metadata": {
    "collapsed": true
   },
   "outputs": [],
   "source": [
    "# Model Parameters\n",
    "sigma = 10\n",
    "V = 1.5e-15\n",
    "to_nanomolar = 1e-9\n",
    "omega = 6.02214086e23*V*to_nanomolar\n",
    "t_end = 30000\n",
    "k = np.asarray([100, 1000, 10, 4, 2/omega, 1, 4/omega, 1, 4*sigma/omega, 1])\n",
    "q0 = np.array([  1, 10,1, 10, 0, 0, 0])\n",
    "names = [r'$G_1$', r'$P_1$', r'$G_2$', r'$P_2$',\n",
    "         r'$\\xi_1^{I}$', r'$\\xi_2^{I_1}$', r'$\\xi_2^{I_2}$']\n",
    "dist = [\"none\"]*7\n",
    "## State change matrix associated with each reaction\n",
    "nu = np.array([ [0, 1, 0, 0, 0, 0, 0], #G1    -> G1+P1\n",
    "                [0, 0, 0, 2, 0, 0, 0], #G2    -> G2+P2\n",
    "                [0,-1, 0, 0, 0, 0, 0], #P1    -> _\n",
    "                [0, 0, 0,-1, 0, 0, 0], #P2    -> _\n",
    "                [-1,0, 0,-1, 1, 0, 0], #G1+P2 -> C1\n",
    "                [1, 0, 0, 1,-1, 0, 0], #C1    -> G1+P2\n",
    "                [0,-1,-1, 0, 0, 1, 0], #P1+G2 -> C2a\n",
    "                [0, 1, 1, 0, 0,-1, 0], #C2a   -> P1+G2\n",
    "                [0,-1, 0, 0, 0,-1, 1], #P1+C2a-> C2b \n",
    "                [0, 1, 0, 0, 0, 1,-1]  #C2b   -> P1+C2a\n",
    "              ], dtype = np.int)\n",
    "## Molecularity of species entering each reaction\n",
    "psi = np.array([[1, 0, 0, 0, 0, 0, 0],\n",
    "                [0, 0, 1, 0, 0, 0, 0],\n",
    "                [0, 1, 0, 0, 0, 0, 0],\n",
    "                [0, 0, 0, 1, 0, 0, 0],\n",
    "                [1, 0, 0, 1, 0, 0, 0],\n",
    "                [0, 0, 0, 0, 1, 0, 0],\n",
    "                [0, 1, 1, 0, 0, 0, 0],\n",
    "                [0, 0, 0, 0, 0, 1, 0],\n",
    "                [0, 1, 0, 0, 0, 1, 0],\n",
    "                [0, 0, 0, 0, 0, 0, 1]], dtype = np.int)\n",
    "\n",
    "mp_toggle = ssa.modelParameters(k, nu, psi, q0, t_end, names, dist)\n",
    "\n",
    "#Simulation Parameters\n",
    "n_paths = 1\n",
    "do_load = 0 # default 0 \n",
    "do_save = 1 # default 1 \n",
    "np.random.seed(123)"
   ]
  },
  {
   "cell_type": "code",
   "execution_count": 16,
   "metadata": {
    "collapsed": true
   },
   "outputs": [
    {
     "name": "stdout",
     "output_type": "stream",
     "text": [
      "2018-04-13 21:25:31,689:ssa_routine:INFO: Loaded data from results~/data\\out_20180413-211925.npz.\n",
      "2018-04-13 21:25:31,880:ssa_routine:INFO: Calculating statistics for all species.\n"
     ]
    },
    {
     "data": {
      "text/html": [
       "<div>\n",
       "<style>\n",
       "    .dataframe thead tr:only-child th {\n",
       "        text-align: right;\n",
       "    }\n",
       "\n",
       "    .dataframe thead th {\n",
       "        text-align: left;\n",
       "    }\n",
       "\n",
       "    .dataframe tbody tr th {\n",
       "        vertical-align: top;\n",
       "    }\n",
       "</style>\n",
       "<table border=\"1\" class=\"dataframe\">\n",
       "  <thead>\n",
       "    <tr style=\"text-align: right;\">\n",
       "      <th></th>\n",
       "      <th>mean</th>\n",
       "      <th>var</th>\n",
       "      <th>CV</th>\n",
       "    </tr>\n",
       "  </thead>\n",
       "  <tbody>\n",
       "    <tr>\n",
       "      <th>G1</th>\n",
       "      <td>0.480559</td>\n",
       "      <td>0.249622</td>\n",
       "      <td>1.039667</td>\n",
       "    </tr>\n",
       "    <tr>\n",
       "      <th>P1</th>\n",
       "      <td>5.010690</td>\n",
       "      <td>31.772617</td>\n",
       "      <td>1.124939</td>\n",
       "    </tr>\n",
       "    <tr>\n",
       "      <th>G2</th>\n",
       "      <td>0.516934</td>\n",
       "      <td>0.249713</td>\n",
       "      <td>0.966686</td>\n",
       "    </tr>\n",
       "    <tr>\n",
       "      <th>P2</th>\n",
       "      <td>259.169254</td>\n",
       "      <td>63013.310648</td>\n",
       "      <td>0.968574</td>\n",
       "    </tr>\n",
       "    <tr>\n",
       "      <th>$\\xi_1^{I}$</th>\n",
       "      <td>0.519441</td>\n",
       "      <td>0.249622</td>\n",
       "      <td>0.961846</td>\n",
       "    </tr>\n",
       "    <tr>\n",
       "      <th>$\\xi_2^{I_1}$</th>\n",
       "      <td>0.006156</td>\n",
       "      <td>0.006118</td>\n",
       "      <td>12.705701</td>\n",
       "    </tr>\n",
       "    <tr>\n",
       "      <th>$\\xi_2^{I_2}$</th>\n",
       "      <td>0.476909</td>\n",
       "      <td>0.249467</td>\n",
       "      <td>1.047299</td>\n",
       "    </tr>\n",
       "  </tbody>\n",
       "</table>\n",
       "</div>"
      ],
      "text/plain": [
       "                     mean           var         CV\n",
       "G1               0.480559      0.249622   1.039667\n",
       "P1               5.010690     31.772617   1.124939\n",
       "G2               0.516934      0.249713   0.966686\n",
       "P2             259.169254  63013.310648   0.968574\n",
       "$\\xi_1^{I}$      0.519441      0.249622   0.961846\n",
       "$\\xi_2^{I_1}$    0.006156      0.006118  12.705701\n",
       "$\\xi_2^{I_2}$    0.476909      0.249467   1.047299"
      ]
     },
     "metadata": {},
     "output_type": "display_data"
    },
    {
     "name": "stdout",
     "output_type": "stream",
     "text": [
      "2018-04-13 21:25:32,595:ssa_routine:INFO: Simulation finished.\n"
     ]
    }
   ],
   "source": [
    "np.random.seed(123)\n",
    "Qs, times, df_stats, df_plots, tot_props = \\\n",
    "                    ssa.simulate(mp_toggle, n_paths, 1, 0)"
   ]
  },
  {
   "cell_type": "code",
   "execution_count": 17,
   "metadata": {
    "collapsed": true
   },
   "outputs": [],
   "source": [
    "np.random.seed(123)\n",
    "ssa.visualize(Qs, times, df_stats, df_plots,tot_props, mp_toggle)"
   ]
  },
  {
   "cell_type": "code",
   "execution_count": 3,
   "metadata": {},
   "outputs": [
    {
     "name": "stdout",
     "output_type": "stream",
     "text": [
      "2018-04-15 09:43:40,516:ssa_routine:INFO: Starting simulation with n_paths=1\n",
      "2018-04-15 09:43:40,524:ssa_routine:INFO: Start of simulation for path # 1 out of 1.\n",
      "2018-04-15 09:45:07,171:ssa_routine:INFO: Relative time: 0.20.\n",
      "2018-04-15 09:46:01,920:ssa_routine:INFO: Relative time: 0.40.\n",
      "2018-04-15 09:48:00,145:ssa_routine:INFO: Relative time: 0.60.\n",
      "2018-04-15 09:49:25,028:ssa_routine:INFO: Relative time: 0.80.\n",
      "2018-04-15 09:52:52,343:ssa_routine:INFO: Data saved to file results~/data/out_20180415-095212.\n",
      "2018-04-15 09:52:52,605:ssa_routine:INFO: Calculating statistics for all species.\n"
     ]
    },
    {
     "data": {
      "text/html": [
       "<div>\n",
       "<style>\n",
       "    .dataframe thead tr:only-child th {\n",
       "        text-align: right;\n",
       "    }\n",
       "\n",
       "    .dataframe thead th {\n",
       "        text-align: left;\n",
       "    }\n",
       "\n",
       "    .dataframe tbody tr th {\n",
       "        vertical-align: top;\n",
       "    }\n",
       "</style>\n",
       "<table border=\"1\" class=\"dataframe\">\n",
       "  <thead>\n",
       "    <tr style=\"text-align: right;\">\n",
       "      <th></th>\n",
       "      <th>mean</th>\n",
       "      <th>var</th>\n",
       "      <th>CV</th>\n",
       "    </tr>\n",
       "  </thead>\n",
       "  <tbody>\n",
       "    <tr>\n",
       "      <th>$G_1$</th>\n",
       "      <td>0.678624</td>\n",
       "      <td>0.218094</td>\n",
       "      <td>0.688165</td>\n",
       "    </tr>\n",
       "    <tr>\n",
       "      <th>$P_1$</th>\n",
       "      <td>7.137714</td>\n",
       "      <td>31.071102</td>\n",
       "      <td>0.780943</td>\n",
       "    </tr>\n",
       "    <tr>\n",
       "      <th>$G_2$</th>\n",
       "      <td>0.320242</td>\n",
       "      <td>0.217687</td>\n",
       "      <td>1.456927</td>\n",
       "    </tr>\n",
       "    <tr>\n",
       "      <th>$P_2$</th>\n",
       "      <td>159.794211</td>\n",
       "      <td>54399.408869</td>\n",
       "      <td>1.459607</td>\n",
       "    </tr>\n",
       "    <tr>\n",
       "      <th>$\\xi_1^{I}$</th>\n",
       "      <td>0.321376</td>\n",
       "      <td>0.218094</td>\n",
       "      <td>1.453140</td>\n",
       "    </tr>\n",
       "    <tr>\n",
       "      <th>$\\xi_2^{I_1}$</th>\n",
       "      <td>0.005893</td>\n",
       "      <td>0.005858</td>\n",
       "      <td>12.988131</td>\n",
       "    </tr>\n",
       "    <tr>\n",
       "      <th>$\\xi_2^{I_2}$</th>\n",
       "      <td>0.673865</td>\n",
       "      <td>0.219771</td>\n",
       "      <td>0.695685</td>\n",
       "    </tr>\n",
       "  </tbody>\n",
       "</table>\n",
       "</div>"
      ],
      "text/plain": [
       "                     mean           var         CV\n",
       "$G_1$            0.678624      0.218094   0.688165\n",
       "$P_1$            7.137714     31.071102   0.780943\n",
       "$G_2$            0.320242      0.217687   1.456927\n",
       "$P_2$          159.794211  54399.408869   1.459607\n",
       "$\\xi_1^{I}$      0.321376      0.218094   1.453140\n",
       "$\\xi_2^{I_1}$    0.005893      0.005858  12.988131\n",
       "$\\xi_2^{I_2}$    0.673865      0.219771   0.695685"
      ]
     },
     "metadata": {},
     "output_type": "display_data"
    },
    {
     "name": "stdout",
     "output_type": "stream",
     "text": [
      "2018-04-15 09:53:29,373:ssa_routine:INFO: Simulation finished.\n",
      "2018-04-15 09:54:03,614:ssa_routine:INFO: Program execution finished.\n"
     ]
    }
   ],
   "source": [
    "np.random.seed(123)\n",
    "ssa.main(mp_toggle, n_paths, do_load ,do_save)"
   ]
  },
  {
   "cell_type": "markdown",
   "metadata": {},
   "source": [
    "### Results\n",
    "<br/>\n",
    "From the statistics, we may conclude that there is not much going on in our system, but look at the following plots of temporal evolution of protein copy numbers is more interesting. We see that the system manifests bistability when there are significant and  abrupt jumps in copy numbers of both proteins. This is the expected effect of noise-induced switching that is not tractable in deterministic model. The bistable behavior is due to the fact that the copy numbers of the proteins are dependent on presence or absence of complexes $\\xi_1^{I}$, $\\xi_2^{I_1}$, $\\xi_2^{I_2}$ that in turn acquire copy numbers only in set ${0,1}$. Such binary state is significantly affected by stochastic events (recall the previous example with parking lot).\n",
    "\n",
    "<!--\n",
    "<div class=\"img_row\">\n",
    "    <a href=\"{{ site.baseurl }}/img/advanced_example_evolution_P1.png\" target=\"_blank\">\n",
    "\t<img class=\"col three\" src=\"{{ site.baseurl }}/img/advanced_example_evolution_P1.png\" alt=\"Easy Example\" title=\"Easy Example\"/></a>\n",
    "</div>\n",
    "-->\n",
    "\n",
    "<!--\n",
    "<div class=\"img_row\">\n",
    "    <a href=\"{{ site.baseurl }}/img/advanced_example_evolution_P2.png\" target=\"_blank\">\n",
    "\t<img class=\"col three\" src=\"{{ site.baseurl }}/img/advanced_example_evolution_P2.png\" alt=\"Easy Example\" title=\"Easy Example\"/></a>\n",
    "</div>\n",
    "<div class=\"col three caption\">\n",
    "Copy number evolution for proteins 1 and 2. Both species exhibit bistability in state space that is the best seen in the marginal distribution on the right panel. Although the copy numbers are mostly around 10 and 0, this can suddenly and randomly change to 0 and 500 for proteins 1 and 2 respectively.\n",
    "</div>\n",
    "-->"
   ]
  },
  {
   "cell_type": "markdown",
   "metadata": {},
   "source": [
    "## Conclusion\n",
    "<br/>\n",
    "If you have made it all the way here, pat yourself on the back. It has been quite some math we have covered and it allows to faithfully simulate dynamical systems as intriguing and complicated as genetic circuits. Now you know something about the phenomenon of bistability, which is a crucial element of building a toggle-switch, one of the elemental parts in synthetic-biology. You  also understand the important role of noise in gene expression and that the inherent stochasticity is not purely a complication in our design but can be efficiently exploited to drive patterns in molecular 'decision-making'. In addition to *Stochastic Simulation Algorithm*, you are now also aware of other, more approximate, approaches for modeling biochemical (or other stochastic) systems like *Chemical Langevin* or *Fokker-Planck* equations that can allow you to inspect systems of larger size.\n",
    "\n",
    "Last but not least, after inspecting the code in the [github repository](), you will have seen examples of some advanced python capabilities including function decorators, just-in-time compilation and logging. \n",
    "\n",
    "I hope reading this post was a enjoyable for you as much as it was for me to write it. If you feel like you want to find more about the exciting field of synthetic biology, you can start with [this video](https://www.youtube.com/watch?v=lNttxYdGHs4). In any case, stay tuned for upcoming posts on cool interdisciplinary and engineering topics."
   ]
  },
  {
   "cell_type": "code",
   "execution_count": 4,
   "metadata": {},
   "outputs": [
    {
     "data": {
      "text/plain": [
       "1861"
      ]
     },
     "execution_count": 4,
     "metadata": {},
     "output_type": "execute_result"
    }
   ],
   "source": [
    "import gc\n",
    "gc.collect()"
   ]
  },
  {
   "cell_type": "code",
   "execution_count": 21,
   "metadata": {
    "collapsed": true
   },
   "outputs": [
    {
     "name": "stdout",
     "output_type": "stream",
     "text": [
      "> c:\\users\\marti\\miniconda2\\envs\\py36\\lib\\site-packages\\numpy\\lib\\shape_base.py(409)dstack()\n",
      "-> return _nx.concatenate([atleast_3d(_m) for _m in tup], 2)\n",
      "(Pdb) u\n",
      "> c:\\users\\marti\\documents\\uni_eth\\fs18\\stochsim\\ssa_routine.py(278)trim_paths()\n",
      "-> props = np.squeeze(np.dstack(props))\n",
      "(Pdb) props.shape\n",
      "*** AttributeError: 'list' object has no attribute 'shape'\n",
      "(Pdb) len(props)\n",
      "4\n",
      "(Pdb) [p.shape for p in props]\n",
      "[(6192, 1), (6193, 1), (6193, 1), (6193, 1)]\n",
      "(Pdb) q\n"
     ]
    }
   ],
   "source": [
    "import pdb\n",
    "pdb.pm()"
   ]
  },
  {
   "cell_type": "code",
   "execution_count": 70,
   "metadata": {},
   "outputs": [
    {
     "data": {
      "text/plain": [
       "logging.Logger"
      ]
     },
     "execution_count": 70,
     "metadata": {},
     "output_type": "execute_result"
    }
   ],
   "source": [
    "type(mylg)"
   ]
  },
  {
   "cell_type": "code",
   "execution_count": 50,
   "metadata": {
    "collapsed": true
   },
   "outputs": [],
   "source": [
    "import logging\n",
    "logging.Logger.manager.loggerDict\n",
    "logger = logging.getLogger(\"ssa_routine\")\n",
    "logger.handlers\n",
    "ssa.teardown_logger(logger)"
   ]
  },
  {
   "cell_type": "markdown",
   "metadata": {},
   "source": [
    "## Supplementary Note 1: Derivation next time step parameters in Gillespie's Algorithm\n",
    "<br/>\n",
    "Define $p(\\tau, j ~|~ \\mathbf{q}, t)d\\tau$ as the probability that the reaction $j$ occurs in the time interval $[t + \\tau, t + \\tau + d\\tau]$, then we have:\n",
    "$$p(\\tau, j ~|~ \\mathbf{q}, t)d\\tau = P_0 (\\tau ~|~ \\mathbf{q}, t) \\cdot a_j(\\mathbf{q})d\\tau,$$\n",
    "\n",
    "where $P_0 (\\tau ~|~ \\mathbf{q}, t)$ is the probability that _no_ reaction fires on time interval $[t, \\tau + t]$. We note that starting time $t$ is arbitrary and we may set it to zero.\n",
    "Corresponding probability that _no_ reaction occurs in time interval $[t + \\tau, t + \\tau + d\\tau]$:\n",
    "\n",
    "$$P_0 (\\tau + d\\tau\\ |\\ \\mathbf{q}, t) = P_0 (\\tau\\ |\\ \\mathbf{q}, t) \\cdot (1-ad\\tau),$$\n",
    "where $a = \\sum_{i}^{M}a_i.$\n",
    "\n",
    "It then immediately follows that:\n",
    "\n",
    "$$\\frac{d P_0}{d \\tau} (\\tau\\ |\\ \\mathbf{q}, t) = -P_0 (\\tau\\ |\\ \\mathbf{q}, t) \\cdot a.$$\n",
    "Solving this differential equation with initial condition $P_0 (0\\ |\\ \\mathbf{q}, t) = 1$ yields:\n",
    "\n",
    "$$ P_0 (\\tau\\ |\\ \\mathbf{q}, t) = \\mathrm{exp}(-a\\tau).$$\n",
    "\n",
    "Going back to previous definition, this gives us:\n",
    "$$p(\\tau, j\\ |\\ \\mathbf{q}, t) =  \\mathrm{exp}(-a\\tau) \\cdot a_j(\\mathbf{q}).$$\n",
    "To obtain index of next reaction $j$ we _marginalize_ over all $\\tau$ and obtain:\n",
    "\n",
    "$$\\int_{0}^{\\infty}p(\\tau, j\\ |\\ \\mathbf{q}, t) d\\tau = a_j(\\mathbf{q}) \\int_{0}^{\\infty} \\mathrm{exp}(-a\\tau)d\\tau = \\frac{a_j(\\mathbf{q})}{a}.$$\n",
    "\n",
    "Similarly, to find time that next reaction occurs, we integrate over all reactions $j$ and obtain:\n",
    "$$p(\\tau\\ |\\ \\mathbf{q}, t) =  \\mathrm{exp}(-a\\tau) \\cdot a.$$\n",
    "\n",
    "The probability that the reaction occurs on time interval $[0, \\Delta t]$ is then given by the _cumulative distribution function (CDF)_:\n",
    "$$\\int_{0}^{\\Delta t}p(\\tau\\ |\\ \\mathbf{q}, t) d\\tau = a \\int_{0}^{\\Delta t} \\mathrm{exp}(-a\\tau)d\\tau = 1 - \\mathrm{exp}(-a\\Delta t).$$\n",
    "\n",
    "The CDF is bounded on $[0, 1]$ and we can easily generate samples from corresponding PDF by inverse-sampling when we draw uniformly distributed numbers $\\xi$ which finally yields:\n",
    "$$\\Delta t = \\frac{1}{a} \\mathrm{ln}\\bigg(\\frac{1}{1 - \\xi}\\bigg),$$\n",
    "as stated before."
   ]
  },
  {
   "cell_type": "markdown",
   "metadata": {},
   "source": [
    "## Supplementary Note 2: Optimizing the sampling in SSA\n",
    "<br/>\n",
    "The computational burden of the direct method for SSA hits us pretty early. This can be troubling as it prolongs development cycles and limits number of species we can track. To alleviate this at least marginally, we can try to speed up our current code without making any conceptual changes to what is being computed and how (in contrast to more approximate approaches like *Chemical Langevin Equation(CLE)* and *Fokker-Planck Equation (FPE)*). "
   ]
  },
  {
   "cell_type": "markdown",
   "metadata": {},
   "source": [
    "##### Use profiler to find where the most time is spent\n",
    "<br/>\n",
    "First, we profile our code to see where the most time is being spend."
   ]
  },
  {
   "cell_type": "code",
   "execution_count": 4,
   "metadata": {
    "collapsed": true
   },
   "outputs": [],
   "source": [
    "%load_ext line_profiler\n",
    "import ssa_routine as ssa\n",
    "import os"
   ]
  },
  {
   "cell_type": "code",
   "execution_count": 7,
   "metadata": {
    "scrolled": true
   },
   "outputs": [
    {
     "name": "stdout",
     "output_type": "stream",
     "text": [
      "\n",
      "*** Profile printout saved to text file 'profiler.out'. \n"
     ]
    }
   ],
   "source": [
    "%lprun -T profiler.out -f ssa.ssa_routine ssa.ssa_routine(mp.k, mp.t_end, mp.q0, mp.nu, mp.psi)"
   ]
  },
  {
   "cell_type": "markdown",
   "metadata": {},
   "source": [
    "##### Use numba to speed up the calculations\n",
    "<br/>\n",
    "We have found out that absolute majority of the time is spent in computing propensities and drawing samples for update with a respective reaction in given time interval. Unsurprisingly, as these occur on each and every time-step. Clearly, we can get the most 'bang for the buck' by making these two steps faster. To this end, we wrap them into individual functions and use [`numba`'s](https://numba.pydata.org/) `@jit` decorator for just-in-time (JIT) compilation. This allows us to get about four-fold speed-up in calculations which I think is fair given the simplicity of implementation. This boils down to [decorating](https://wiki.python.org/moin/PythonDecorators) the function as:\n",
    "```python\n",
    "@numba.jit(nopython = True)\n",
    "def some_function(x, y):\n",
    "    return x + y\n",
    "```\n",
    "\n",
    "Here is the speed comparison:"
   ]
  },
  {
   "cell_type": "code",
   "execution_count": 53,
   "metadata": {},
   "outputs": [
    {
     "name": "stdout",
     "output_type": "stream",
     "text": [
      "env: NUMBA_DISABLE_JIT=1\n"
     ]
    },
    {
     "data": {
      "text/html": [
       "<div>\n",
       "<style>\n",
       "    .dataframe thead tr:only-child th {\n",
       "        text-align: right;\n",
       "    }\n",
       "\n",
       "    .dataframe thead th {\n",
       "        text-align: left;\n",
       "    }\n",
       "\n",
       "    .dataframe tbody tr th {\n",
       "        vertical-align: top;\n",
       "    }\n",
       "</style>\n",
       "<table border=\"1\" class=\"dataframe\">\n",
       "  <thead>\n",
       "    <tr style=\"text-align: right;\">\n",
       "      <th></th>\n",
       "      <th>mean</th>\n",
       "      <th>var</th>\n",
       "      <th>CV</th>\n",
       "    </tr>\n",
       "  </thead>\n",
       "  <tbody>\n",
       "    <tr>\n",
       "      <th>mRNA</th>\n",
       "      <td>10.394067</td>\n",
       "      <td>9.208149</td>\n",
       "      <td>3.425306</td>\n",
       "    </tr>\n",
       "    <tr>\n",
       "      <th>Protein</th>\n",
       "      <td>249.466942</td>\n",
       "      <td>1694.715664</td>\n",
       "      <td>6.059888</td>\n",
       "    </tr>\n",
       "  </tbody>\n",
       "</table>\n",
       "</div>"
      ],
      "text/plain": [
       "               mean          var        CV\n",
       "mRNA      10.394067     9.208149  3.425306\n",
       "Protein  249.466942  1694.715664  6.059888"
      ]
     },
     "metadata": {},
     "output_type": "display_data"
    },
    {
     "data": {
      "text/html": [
       "<div>\n",
       "<style>\n",
       "    .dataframe thead tr:only-child th {\n",
       "        text-align: right;\n",
       "    }\n",
       "\n",
       "    .dataframe thead th {\n",
       "        text-align: left;\n",
       "    }\n",
       "\n",
       "    .dataframe tbody tr th {\n",
       "        vertical-align: top;\n",
       "    }\n",
       "</style>\n",
       "<table border=\"1\" class=\"dataframe\">\n",
       "  <thead>\n",
       "    <tr style=\"text-align: right;\">\n",
       "      <th></th>\n",
       "      <th>mean</th>\n",
       "      <th>var</th>\n",
       "      <th>CV</th>\n",
       "    </tr>\n",
       "  </thead>\n",
       "  <tbody>\n",
       "    <tr>\n",
       "      <th>mRNA</th>\n",
       "      <td>10.688117</td>\n",
       "      <td>9.27994</td>\n",
       "      <td>3.508558</td>\n",
       "    </tr>\n",
       "    <tr>\n",
       "      <th>Protein</th>\n",
       "      <td>257.408644</td>\n",
       "      <td>1726.12629</td>\n",
       "      <td>6.195650</td>\n",
       "    </tr>\n",
       "  </tbody>\n",
       "</table>\n",
       "</div>"
      ],
      "text/plain": [
       "               mean         var        CV\n",
       "mRNA      10.688117     9.27994  3.508558\n",
       "Protein  257.408644  1726.12629  6.195650"
      ]
     },
     "metadata": {},
     "output_type": "display_data"
    },
    {
     "data": {
      "text/html": [
       "<div>\n",
       "<style>\n",
       "    .dataframe thead tr:only-child th {\n",
       "        text-align: right;\n",
       "    }\n",
       "\n",
       "    .dataframe thead th {\n",
       "        text-align: left;\n",
       "    }\n",
       "\n",
       "    .dataframe tbody tr th {\n",
       "        vertical-align: top;\n",
       "    }\n",
       "</style>\n",
       "<table border=\"1\" class=\"dataframe\">\n",
       "  <thead>\n",
       "    <tr style=\"text-align: right;\">\n",
       "      <th></th>\n",
       "      <th>mean</th>\n",
       "      <th>var</th>\n",
       "      <th>CV</th>\n",
       "    </tr>\n",
       "  </thead>\n",
       "  <tbody>\n",
       "    <tr>\n",
       "      <th>mRNA</th>\n",
       "      <td>10.467691</td>\n",
       "      <td>8.531862</td>\n",
       "      <td>3.583678</td>\n",
       "    </tr>\n",
       "    <tr>\n",
       "      <th>Protein</th>\n",
       "      <td>255.014802</td>\n",
       "      <td>1703.876616</td>\n",
       "      <td>6.177977</td>\n",
       "    </tr>\n",
       "  </tbody>\n",
       "</table>\n",
       "</div>"
      ],
      "text/plain": [
       "               mean          var        CV\n",
       "mRNA      10.467691     8.531862  3.583678\n",
       "Protein  255.014802  1703.876616  6.177977"
      ]
     },
     "metadata": {},
     "output_type": "display_data"
    },
    {
     "name": "stdout",
     "output_type": "stream",
     "text": [
      "13.7 s ± 225 ms per loop (mean ± std. dev. of 3 runs, 1 loop each)\n"
     ]
    }
   ],
   "source": [
    "%set_env NUMBA_DISABLE_JIT=1\n",
    "#os.environ[\"NUMBA_DISABLE_JIT\"] = \"1\"\n",
    "%timeit -n 1 -r 3 ssa.simulate(mp, n_paths)"
   ]
  },
  {
   "cell_type": "code",
   "execution_count": 19,
   "metadata": {},
   "outputs": [
    {
     "name": "stdout",
     "output_type": "stream",
     "text": [
      "env: NUMBA_DISABLE_JIT=0\n"
     ]
    },
    {
     "data": {
      "text/html": [
       "<div>\n",
       "<style>\n",
       "    .dataframe thead tr:only-child th {\n",
       "        text-align: right;\n",
       "    }\n",
       "\n",
       "    .dataframe thead th {\n",
       "        text-align: left;\n",
       "    }\n",
       "\n",
       "    .dataframe tbody tr th {\n",
       "        vertical-align: top;\n",
       "    }\n",
       "</style>\n",
       "<table border=\"1\" class=\"dataframe\">\n",
       "  <thead>\n",
       "    <tr style=\"text-align: right;\">\n",
       "      <th></th>\n",
       "      <th>mean</th>\n",
       "      <th>var</th>\n",
       "      <th>CV</th>\n",
       "    </tr>\n",
       "  </thead>\n",
       "  <tbody>\n",
       "    <tr>\n",
       "      <th>gene</th>\n",
       "      <td>1.000000</td>\n",
       "      <td>0.000000</td>\n",
       "      <td>NaN</td>\n",
       "    </tr>\n",
       "    <tr>\n",
       "      <th>mRNA</th>\n",
       "      <td>10.999584</td>\n",
       "      <td>11.375058</td>\n",
       "      <td>3.261365</td>\n",
       "    </tr>\n",
       "    <tr>\n",
       "      <th>Protein</th>\n",
       "      <td>263.212386</td>\n",
       "      <td>2612.338753</td>\n",
       "      <td>5.149814</td>\n",
       "    </tr>\n",
       "  </tbody>\n",
       "</table>\n",
       "</div>"
      ],
      "text/plain": [
       "               mean          var        CV\n",
       "gene       1.000000     0.000000       NaN\n",
       "mRNA      10.999584    11.375058  3.261365\n",
       "Protein  263.212386  2612.338753  5.149814"
      ]
     },
     "metadata": {},
     "output_type": "display_data"
    },
    {
     "data": {
      "text/html": [
       "<div>\n",
       "<style>\n",
       "    .dataframe thead tr:only-child th {\n",
       "        text-align: right;\n",
       "    }\n",
       "\n",
       "    .dataframe thead th {\n",
       "        text-align: left;\n",
       "    }\n",
       "\n",
       "    .dataframe tbody tr th {\n",
       "        vertical-align: top;\n",
       "    }\n",
       "</style>\n",
       "<table border=\"1\" class=\"dataframe\">\n",
       "  <thead>\n",
       "    <tr style=\"text-align: right;\">\n",
       "      <th></th>\n",
       "      <th>mean</th>\n",
       "      <th>var</th>\n",
       "      <th>CV</th>\n",
       "    </tr>\n",
       "  </thead>\n",
       "  <tbody>\n",
       "    <tr>\n",
       "      <th>gene</th>\n",
       "      <td>1.000000</td>\n",
       "      <td>0.000000</td>\n",
       "      <td>NaN</td>\n",
       "    </tr>\n",
       "    <tr>\n",
       "      <th>mRNA</th>\n",
       "      <td>10.532080</td>\n",
       "      <td>10.249184</td>\n",
       "      <td>3.289800</td>\n",
       "    </tr>\n",
       "    <tr>\n",
       "      <th>Protein</th>\n",
       "      <td>253.934811</td>\n",
       "      <td>1920.826411</td>\n",
       "      <td>5.793996</td>\n",
       "    </tr>\n",
       "  </tbody>\n",
       "</table>\n",
       "</div>"
      ],
      "text/plain": [
       "               mean          var        CV\n",
       "gene       1.000000     0.000000       NaN\n",
       "mRNA      10.532080    10.249184  3.289800\n",
       "Protein  253.934811  1920.826411  5.793996"
      ]
     },
     "metadata": {},
     "output_type": "display_data"
    },
    {
     "data": {
      "text/html": [
       "<div>\n",
       "<style>\n",
       "    .dataframe thead tr:only-child th {\n",
       "        text-align: right;\n",
       "    }\n",
       "\n",
       "    .dataframe thead th {\n",
       "        text-align: left;\n",
       "    }\n",
       "\n",
       "    .dataframe tbody tr th {\n",
       "        vertical-align: top;\n",
       "    }\n",
       "</style>\n",
       "<table border=\"1\" class=\"dataframe\">\n",
       "  <thead>\n",
       "    <tr style=\"text-align: right;\">\n",
       "      <th></th>\n",
       "      <th>mean</th>\n",
       "      <th>var</th>\n",
       "      <th>CV</th>\n",
       "    </tr>\n",
       "  </thead>\n",
       "  <tbody>\n",
       "    <tr>\n",
       "      <th>gene</th>\n",
       "      <td>1.000000</td>\n",
       "      <td>0.000000</td>\n",
       "      <td>NaN</td>\n",
       "    </tr>\n",
       "    <tr>\n",
       "      <th>mRNA</th>\n",
       "      <td>10.366590</td>\n",
       "      <td>9.328903</td>\n",
       "      <td>3.394069</td>\n",
       "    </tr>\n",
       "    <tr>\n",
       "      <th>Protein</th>\n",
       "      <td>249.273439</td>\n",
       "      <td>1465.737686</td>\n",
       "      <td>6.511003</td>\n",
       "    </tr>\n",
       "  </tbody>\n",
       "</table>\n",
       "</div>"
      ],
      "text/plain": [
       "               mean          var        CV\n",
       "gene       1.000000     0.000000       NaN\n",
       "mRNA      10.366590     9.328903  3.394069\n",
       "Protein  249.273439  1465.737686  6.511003"
      ]
     },
     "metadata": {},
     "output_type": "display_data"
    },
    {
     "name": "stdout",
     "output_type": "stream",
     "text": [
      "2.41 s ± 580 ms per loop (mean ± std. dev. of 3 runs, 1 loop each)\n"
     ]
    }
   ],
   "source": [
    "%set_env NUMBA_DISABLE_JIT=0\n",
    "#os.environ[\"NUMBA_DISABLE_JIT\"] = \"0\"\n",
    "%timeit -n 1 -r 3 ssa.simulate(mp, n_paths)"
   ]
  },
  {
   "cell_type": "code",
   "execution_count": 55,
   "metadata": {},
   "outputs": [
    {
     "data": {
      "text/plain": [
       "'0'"
      ]
     },
     "execution_count": 55,
     "metadata": {},
     "output_type": "execute_result"
    }
   ],
   "source": [
    "os.environ.pop(\"NUMBA_DISABLE_JIT\")"
   ]
  },
  {
   "cell_type": "markdown",
   "metadata": {},
   "source": [
    "---\n",
    "### Code to save for later"
   ]
  },
  {
   "cell_type": "markdown",
   "metadata": {},
   "source": [
    "$$\n",
    "\\require{AMScd}\n",
    "\\begin{CD}\n",
    "    G_1 @>\\beta_1>> G_1 + P_1\\\\\n",
    "    @. @V{\\gamma_1 \\cdot n_{P_1}(t)}VV\\\\\n",
    "    @. \\varnothing\n",
    "\\end{CD} \\tag{1a}\n",
    "$$\n",
    "\n",
    "$$G_1 \\xrightarrow{\\beta_1} P_1 \\xrightarrow{\\gamma_1 \\cdot n_{P_1}(t)} \\varnothing \\tag{1b}$$"
   ]
  },
  {
   "cell_type": "code",
   "execution_count": 3,
   "metadata": {
    "collapsed": true
   },
   "outputs": [],
   "source": [
    "mp = ssa.modelParameters(k = np.asarray([(10, 1), (10, .4)]),\n",
    "                        nu = np.array(([1, 0], [-1, 0], [0, 1], [0, -1]), dtype = np.int),\n",
    "                        q0 = np.array([0, 0]),\n",
    "                        t_end = 100,\n",
    "                        names = [\"mRNA\", \"Protein\"])\n",
    "n_paths = 3\n",
    "np.random.seed(56)"
   ]
  },
  {
   "cell_type": "code",
   "execution_count": 4,
   "metadata": {
    "collapsed": true
   },
   "outputs": [
    {
     "name": "stderr",
     "output_type": "stream",
     "text": [
      "Current time: 10.0019\n",
      "Current time: 20.0138\n",
      "Current time: 30.0007\n",
      "Current time: 40.0076\n",
      "Current time: 50.0061\n",
      "Current time: 60.0113\n",
      "Current time: 70.0022\n",
      "Current time: 80.0051\n",
      "Current time: 90.0076\n",
      "Current time: 100.0021\n",
      "Current time: 10.0026\n",
      "Current time: 20.0212\n",
      "Current time: 30.0012\n",
      "Current time: 40.0010\n",
      "Current time: 50.0041\n",
      "Current time: 60.0017\n",
      "Current time: 70.0006\n",
      "Current time: 80.0107\n",
      "Current time: 90.0069\n",
      "Current time: 100.0006\n",
      "Current time: 10.0043\n",
      "Current time: 20.0040\n",
      "Current time: 30.0139\n",
      "Current time: 40.0013\n",
      "Current time: 50.0015\n",
      "Current time: 60.0115\n",
      "Current time: 70.0020\n",
      "Current time: 80.0004\n",
      "Current time: 90.0010\n",
      "Current time: 100.0046\n",
      "Current time: 10.0058\n",
      "Current time: 20.0001\n",
      "Current time: 30.0051\n",
      "Current time: 40.0380\n",
      "Current time: 50.0023\n",
      "Current time: 60.0030\n",
      "Current time: 70.0014\n",
      "Current time: 80.0040\n",
      "Current time: 90.0008\n",
      "Current time: 100.0027\n"
     ]
    },
    {
     "data": {
      "text/html": [
       "<div>\n",
       "<style>\n",
       "    .dataframe thead tr:only-child th {\n",
       "        text-align: right;\n",
       "    }\n",
       "\n",
       "    .dataframe thead th {\n",
       "        text-align: left;\n",
       "    }\n",
       "\n",
       "    .dataframe tbody tr th {\n",
       "        vertical-align: top;\n",
       "    }\n",
       "</style>\n",
       "<table border=\"1\" class=\"dataframe\">\n",
       "  <thead>\n",
       "    <tr style=\"text-align: right;\">\n",
       "      <th></th>\n",
       "      <th>mean</th>\n",
       "      <th>var</th>\n",
       "      <th>CV</th>\n",
       "    </tr>\n",
       "  </thead>\n",
       "  <tbody>\n",
       "    <tr>\n",
       "      <th>gene</th>\n",
       "      <td>1.000000</td>\n",
       "      <td>0.000000</td>\n",
       "      <td>NaN</td>\n",
       "    </tr>\n",
       "    <tr>\n",
       "      <th>mRNA</th>\n",
       "      <td>10.400500</td>\n",
       "      <td>9.455559</td>\n",
       "      <td>3.382288</td>\n",
       "    </tr>\n",
       "    <tr>\n",
       "      <th>Protein</th>\n",
       "      <td>247.095867</td>\n",
       "      <td>1232.313510</td>\n",
       "      <td>7.038901</td>\n",
       "    </tr>\n",
       "  </tbody>\n",
       "</table>\n",
       "</div>"
      ],
      "text/plain": [
       "               mean          var        CV\n",
       "gene       1.000000     0.000000       NaN\n",
       "mRNA      10.400500     9.455559  3.382288\n",
       "Protein  247.095867  1232.313510  7.038901"
      ]
     },
     "metadata": {},
     "output_type": "display_data"
    }
   ],
   "source": [
    "#n_paths = 20\n",
    "Qs, times, df_stats, df_plots = ssa.simulate(mp, n_paths)"
   ]
  },
  {
   "cell_type": "code",
   "execution_count": 5,
   "metadata": {},
   "outputs": [
    {
     "data": {
      "text/plain": [
       "(19880, 3, 4)"
      ]
     },
     "execution_count": 5,
     "metadata": {},
     "output_type": "execute_result"
    }
   ],
   "source": [
    "Qs.shape"
   ]
  },
  {
   "cell_type": "code",
   "execution_count": 11,
   "metadata": {},
   "outputs": [
    {
     "data": {
      "image/png": "[encoded data removed]",
      "text/plain": [
       "<matplotlib.figure.Figure at 0x142f87667b8>"
      ]
     },
     "metadata": {},
     "output_type": "display_data"
    }
   ],
   "source": [
    "fig, ax = ssa.visualize(Qs, times, df_stats, df_plots, mp)"
   ]
  }
 ],
 "metadata": {
  "kernelspec": {
   "display_name": "Python 3",
   "language": "python",
   "name": "python3"
  },
  "language_info": {
   "codemirror_mode": {
    "name": "ipython",
    "version": 3
   },
   "file_extension": ".py",
   "mimetype": "text/x-python",
   "name": "python",
   "nbconvert_exporter": "python",
   "pygments_lexer": "ipython3",
   "version": "3.6.2"
  }
 },
 "nbformat": 4,
 "nbformat_minor": 2
}
